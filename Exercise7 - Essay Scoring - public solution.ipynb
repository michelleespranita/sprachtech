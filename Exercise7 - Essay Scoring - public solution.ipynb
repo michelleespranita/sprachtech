{
 "cells": [
  {
   "cell_type": "markdown",
   "metadata": {},
   "source": [
    "Mayra Diandra Nabila Ratnadi (3039839)\n",
    "\n",
    "Michelle Espranita Liman (3072994)"
   ]
  },
  {
   "cell_type": "code",
   "execution_count": 168,
   "metadata": {},
   "outputs": [
    {
     "data": {
      "text/html": [
       "<style>/* Style des gesamten Dokuments */\n",
       "#notebook-container {\n",
       "\tfont-family: \"NimbusMonL-ReguObli\";\n",
       "\tfont-size: 120%\n",
       "}\n",
       "\n",
       "/* Style für die Überschrift: Zentriert diese und stellt sie fett dar. */\n",
       ".headline {\n",
       "\ttext-align: center;\n",
       "\tfont-weight: bold;\n",
       "\tfont-size: 185.7%\n",
       "}\n",
       "\n",
       "/* Style für die Aufgabenbeschreibung. Z.B.: \"Übung zum Thema...\" */\n",
       ".description {\n",
       "\ttext-align: center;\n",
       "\tfont-size: 145.7%\n",
       "}\n",
       "\n",
       "/* Hebt das Abgabedatum fett und kursiv hervor */\n",
       "#submission {\n",
       "\tfont-weight: bold;\n",
       "}\n",
       "\n",
       "/* Style für das eigentliche Thema. Z.B.: \"Intelligenz\" */\n",
       "#topic {\n",
       "\tfont-style: italic;\n",
       "}\n",
       "\n",
       ".task_description {\n",
       "\tmargin-bottom: 20px;\n",
       "}\n",
       "\n",
       "/* Hebt die Aufgabennummerierung fett hervor. */\n",
       ".task {\n",
       "\tfont-style: normal;\n",
       "\tfont-weight: bold;\n",
       "\tfont-size: 120%;\n",
       "\tborder-bottom: 2px solid black;\n",
       "  background-color: #97CAEF;\n",
       "  color: black;\n",
       "\tpadding: 2px;\n",
       "  padding-left: 50px;\n",
       "  padding-right: 50px;\n",
       "}\n",
       "\n",
       ".subtask {\n",
       "\tfont-style: normal;\n",
       "\tfont-size: 100%;\n",
       "  background-color: #CAFAFE;\n",
       "  color: black;\n",
       "\tpadding: 2px;\n",
       "  padding-left: 25px;\n",
       "  padding-right: 25px;\n",
       "}\n",
       "\n",
       ".l1 {\n",
       "\tfont-style: normal;\n",
       "\tfont-size: 100%;\n",
       "  background-color: #14A76C;\n",
       "  color: black;\n",
       "\tpadding: 2px;\n",
       "  padding-left: 5px;\n",
       "  padding-right: 5px;\n",
       "}\n",
       "\n",
       ".l2 {\n",
       "\tfont-style: normal;\n",
       "\tfont-size: 100%;\n",
       "  background-color: #FFE400;\n",
       "  color: black;\n",
       "\tpadding: 2px;\n",
       "  padding-left: 5px;\n",
       "  padding-right: 5px;\n",
       "}\n",
       "\n",
       ".l3 {\n",
       "\tfont-style: normal;\n",
       "\tfont-size: 100%;\n",
       "  background-color: #FF652F;\n",
       "  color: black;\n",
       "\tpadding: 2px;\n",
       "  padding-left: 5px;\n",
       "  padding-right: 5px;\n",
       "}\n",
       "\n",
       ".points {\n",
       "\tfont-style: italic;\n",
       "}\n",
       "\n",
       "ol.lower_roman {\n",
       "    list-style-type: lower-roman;\n",
       "}\n",
       "\n",
       "ol.characters {\n",
       "    list-style-type: lower-alpha;\n",
       "}\n",
       "\n",
       "/* Style einer Code-Cell */\n",
       ".CodeMirror-code {\n",
       "\tbackground-color: #ededed\n",
       "}\n",
       "\n",
       "/* Style eines Kommentars im Code ändern. */\n",
       ".cm-s-ipython span.cm-comment {\n",
       "\n",
       "}\n",
       "\n",
       ".cm-s-ipython span.cm-atom {\n",
       "\n",
       "}\n",
       "\n",
       ".cm-s-ipython span.cm-number {\n",
       "\n",
       "}\n",
       "\n",
       "/* Style eines Python-Keywords ändern */\n",
       ".cm-s-ipython span.cm-keyword {\n",
       "\tcolor: #B000B0\n",
       "}\n",
       "\n",
       ".cm-s-ipython span.cm-def {\n",
       "\n",
       "}\n",
       "\n",
       "/* Style einer Python-Variable ändern */\n",
       ".cm-s-ipython span.cm-variable {\n",
       "\n",
       "}\n",
       "\n",
       "/* Style einer Property ändern */\n",
       ".cm-s-ipython span.cm-property {\n",
       "\n",
       "}\n",
       "\n",
       "/* Style eines Python-Operators ändern */\n",
       ".cm-s-ipython span.cm-operator {\n",
       "\n",
       "}\n",
       "\n",
       "/* Style eines Python-Strings ändern */\n",
       ".cm-s-ipython span.cm-string {\n",
       "\tcolor: brown;\n",
       "}\n",
       "\n",
       "/* Style einer eingebauten Funktion ändern (z.B. \"open\") */\n",
       ".cm-s-ipython span.cm-builtin {\n",
       "\n",
       "}\n",
       "\n",
       "/* Hebt hervor, welche Klammern zueinander passen */\n",
       ".cm-s-ipython .CodeMirror-matchingbracket {\n",
       "\n",
       "}\n",
       "\n",
       ".cm-s-ipython span.cm-variable-2 {\n",
       "\n",
       "}\n",
       "\n",
       "</style>"
      ],
      "text/plain": [
       "<IPython.core.display.HTML object>"
      ]
     },
     "execution_count": 168,
     "metadata": {},
     "output_type": "execute_result"
    }
   ],
   "source": [
    "from IPython.core.display import HTML\n",
    "HTML(\"<style>\" + open(\"style.css\").read() + \"</style>\")"
   ]
  },
  {
   "cell_type": "markdown",
   "metadata": {},
   "source": [
    "<div class=\"headline\">\n",
    "Language Technology / Sprachtechnologie\n",
    "<br><br>\n",
    "Wintersemester 2019/2020\n",
    "</div>\n",
    "<br>\n",
    "<div class=\"description\">\n",
    "    Übung zum Thema <i id=\"topic\">\"Essay Scoring\"</i>\n",
    "    <br><br>\n",
    "    Deadline Abgabe: <i #id=\"submission\">Thursday, 05.12.2019 (23:55 Uhr)</i>\n",
    "</div>"
   ]
  },
  {
   "cell_type": "code",
   "execution_count": 169,
   "metadata": {},
   "outputs": [],
   "source": [
    "from keras.models import Sequential\n",
    "from keras import layers\n",
    "from keras.preprocessing.sequence import pad_sequences\n",
    "from keras.utils import np_utils\n",
    "import pandas as pd\n",
    "from sklearn import datasets, svm, tree, metrics\n",
    "from sklearn.model_selection import train_test_split\n",
    "from sklearn.feature_extraction.text import CountVectorizer\n",
    "from sklearn.linear_model import LogisticRegression\n",
    "from sklearn.metrics import confusion_matrix\n",
    "from sklearn.metrics import accuracy_score\n",
    "from sklearn.metrics import cohen_kappa_score\n",
    "from sklearn.preprocessing import OneHotEncoder\n",
    "from sklearn.metrics import classification_report\n",
    "from sklearn.tree import DecisionTreeClassifier\n",
    "from keras.preprocessing.sequence import pad_sequences\n",
    "from keras.preprocessing.text import Tokenizer\n",
    "import sys\n",
    "import numpy as np\n",
    "import seaborn as sns\n",
    "from mpl_toolkits.mplot3d import Axes3D\n",
    "import nltk\n",
    "import re\n",
    "import matplotlib.pyplot as plt"
   ]
  },
  {
   "cell_type": "markdown",
   "metadata": {},
   "source": [
    "## Warm-up"
   ]
  },
  {
   "cell_type": "markdown",
   "metadata": {},
   "source": [
    "<div class=\"task_description\">\n",
    "    <i class=\"task\">Task 7.1:</i> <br>\n",
    "</div>\n",
    "\n",
    "Which of the following statements are true?\n",
    "\n",
    "1. Character n-grams are more robust against grammatical errors than token n-grams.\n",
    "2. Length features are always good in essay scoring.\n",
    "3. Length features are more susceptible to cheating than n-gram features.\n",
    "4. Essay scoring is potentially unfair to very creative learners."
   ]
  },
  {
   "cell_type": "markdown",
   "metadata": {},
   "source": [
    "<strong style=\"color: blue\">Lösung: </strong>\n",
    "\n",
    "1. Not necessarily: character n-grams are robust against spelling variation. With grammatical errors, the problem is often not that the word does not exist, but that the wrong form is used.\n",
    "2. No, they are only a good indicator when essays are written under a time constraint.\n",
    "3. True. You can influence length easily (repeating the same words over and over). For n-gram features you will probably have to cover some correct content.\n",
    "4. True. If someone writes something we have never seen in the training data, the algorithm will probably not know what to do with it. If someone writes mainstream, chances are high we can score it more accurately."
   ]
  },
  {
   "cell_type": "markdown",
   "metadata": {},
   "source": [
    "## Features and Machine Learning"
   ]
  },
  {
   "cell_type": "markdown",
   "metadata": {},
   "source": [
    "<div class=\"task_description\">\n",
    "    <i class=\"task\">Task 7.2:</i> <br>\n",
    "</div>"
   ]
  },
  {
   "cell_type": "markdown",
   "metadata": {},
   "source": [
    "<div class=\"task_description\">\n",
    "   <i class=\"subtask\">7.2.1</i> <i class=\"l1\">L1</i> <br>\n",
    "</div>\n",
    "Import the following data file. It contains a number of linguistic features for essay scoring determined on the first prompt of the ASAP data record. \n",
    "<br> Output the NrofTokens feature."
   ]
  },
  {
   "cell_type": "code",
   "execution_count": 170,
   "metadata": {},
   "outputs": [],
   "source": [
    "df = pd.read_csv('featureFileAsap1.tsv', sep='\\t')"
   ]
  },
  {
   "cell_type": "code",
   "execution_count": 171,
   "metadata": {},
   "outputs": [
    {
     "data": {
      "text/html": [
       "<div>\n",
       "<style scoped>\n",
       "    .dataframe tbody tr th:only-of-type {\n",
       "        vertical-align: middle;\n",
       "    }\n",
       "\n",
       "    .dataframe tbody tr th {\n",
       "        vertical-align: top;\n",
       "    }\n",
       "\n",
       "    .dataframe thead th {\n",
       "        text-align: right;\n",
       "    }\n",
       "</style>\n",
       "<table border=\"1\" class=\"dataframe\">\n",
       "  <thead>\n",
       "    <tr style=\"text-align: right;\">\n",
       "      <th></th>\n",
       "      <th>AdjRatioFeature</th>\n",
       "      <th>AdvRatioFeature</th>\n",
       "      <th>ArtRatioFeature</th>\n",
       "      <th>CardRatioFeature</th>\n",
       "      <th>ConjRatioFeature</th>\n",
       "      <th>EndingAble</th>\n",
       "      <th>EndingAl</th>\n",
       "      <th>EndingFul</th>\n",
       "      <th>EndingIble</th>\n",
       "      <th>EndingIc</th>\n",
       "      <th>...</th>\n",
       "      <th>TokLenRatio</th>\n",
       "      <th>TypeTokenRatio</th>\n",
       "      <th>VRatioFeature</th>\n",
       "      <th>avgNumCharsSent</th>\n",
       "      <th>avgNumCharsToken</th>\n",
       "      <th>nrOfCommas</th>\n",
       "      <th>standardDevCharsPerSentence</th>\n",
       "      <th>standardDevCharsPerToken</th>\n",
       "      <th>standardDevTokensPerSentence</th>\n",
       "      <th>outcome</th>\n",
       "    </tr>\n",
       "  </thead>\n",
       "  <tbody>\n",
       "    <tr>\n",
       "      <th>0.101370</th>\n",
       "      <td>0.086301</td>\n",
       "      <td>0.109589</td>\n",
       "      <td>0.006849</td>\n",
       "      <td>0.043836</td>\n",
       "      <td>1000</td>\n",
       "      <td>6.756757</td>\n",
       "      <td>17.567568</td>\n",
       "      <td>2.702703</td>\n",
       "      <td>0.000000</td>\n",
       "      <td>0.000000</td>\n",
       "      <td>...</td>\n",
       "      <td>1.0</td>\n",
       "      <td>0.419178</td>\n",
       "      <td>0.215068</td>\n",
       "      <td>4288.0</td>\n",
       "      <td>4.878082</td>\n",
       "      <td>0.0</td>\n",
       "      <td>0.0</td>\n",
       "      <td>2.702143</td>\n",
       "      <td>0.0</td>\n",
       "      <td>12</td>\n",
       "    </tr>\n",
       "    <tr>\n",
       "      <th>0.086310</th>\n",
       "      <td>0.056548</td>\n",
       "      <td>0.086310</td>\n",
       "      <td>0.005952</td>\n",
       "      <td>0.032738</td>\n",
       "      <td>1001</td>\n",
       "      <td>6.896552</td>\n",
       "      <td>10.344828</td>\n",
       "      <td>0.000000</td>\n",
       "      <td>0.000000</td>\n",
       "      <td>6.896552</td>\n",
       "      <td>...</td>\n",
       "      <td>1.0</td>\n",
       "      <td>0.443452</td>\n",
       "      <td>0.223214</td>\n",
       "      <td>1688.0</td>\n",
       "      <td>4.026866</td>\n",
       "      <td>0.0</td>\n",
       "      <td>0.0</td>\n",
       "      <td>2.144593</td>\n",
       "      <td>0.0</td>\n",
       "      <td>8</td>\n",
       "    </tr>\n",
       "    <tr>\n",
       "      <th>0.054755</th>\n",
       "      <td>0.100865</td>\n",
       "      <td>0.069164</td>\n",
       "      <td>0.000000</td>\n",
       "      <td>0.034582</td>\n",
       "      <td>1002</td>\n",
       "      <td>0.000000</td>\n",
       "      <td>26.315789</td>\n",
       "      <td>5.263158</td>\n",
       "      <td>0.000000</td>\n",
       "      <td>0.000000</td>\n",
       "      <td>...</td>\n",
       "      <td>1.0</td>\n",
       "      <td>0.449568</td>\n",
       "      <td>0.265130</td>\n",
       "      <td>1735.0</td>\n",
       "      <td>4.020173</td>\n",
       "      <td>0.0</td>\n",
       "      <td>0.0</td>\n",
       "      <td>2.068606</td>\n",
       "      <td>0.0</td>\n",
       "      <td>8</td>\n",
       "    </tr>\n",
       "    <tr>\n",
       "      <th>0.067568</th>\n",
       "      <td>0.067568</td>\n",
       "      <td>0.072973</td>\n",
       "      <td>0.000000</td>\n",
       "      <td>0.040541</td>\n",
       "      <td>1003</td>\n",
       "      <td>0.000000</td>\n",
       "      <td>0.000000</td>\n",
       "      <td>0.000000</td>\n",
       "      <td>8.000000</td>\n",
       "      <td>0.000000</td>\n",
       "      <td>...</td>\n",
       "      <td>1.0</td>\n",
       "      <td>0.383784</td>\n",
       "      <td>0.232432</td>\n",
       "      <td>2051.0</td>\n",
       "      <td>4.554348</td>\n",
       "      <td>0.0</td>\n",
       "      <td>0.0</td>\n",
       "      <td>2.133400</td>\n",
       "      <td>0.0</td>\n",
       "      <td>9</td>\n",
       "    </tr>\n",
       "    <tr>\n",
       "      <th>0.065476</th>\n",
       "      <td>0.083333</td>\n",
       "      <td>0.065476</td>\n",
       "      <td>0.005952</td>\n",
       "      <td>0.065476</td>\n",
       "      <td>1004</td>\n",
       "      <td>18.181818</td>\n",
       "      <td>0.000000</td>\n",
       "      <td>0.000000</td>\n",
       "      <td>0.000000</td>\n",
       "      <td>0.000000</td>\n",
       "      <td>...</td>\n",
       "      <td>1.0</td>\n",
       "      <td>0.660714</td>\n",
       "      <td>0.226190</td>\n",
       "      <td>941.0</td>\n",
       "      <td>4.607143</td>\n",
       "      <td>0.0</td>\n",
       "      <td>0.0</td>\n",
       "      <td>2.447145</td>\n",
       "      <td>0.0</td>\n",
       "      <td>6</td>\n",
       "    </tr>\n",
       "    <tr>\n",
       "      <th>0.040161</th>\n",
       "      <td>0.048193</td>\n",
       "      <td>0.064257</td>\n",
       "      <td>0.000000</td>\n",
       "      <td>0.048193</td>\n",
       "      <td>1005</td>\n",
       "      <td>0.000000</td>\n",
       "      <td>0.000000</td>\n",
       "      <td>10.000000</td>\n",
       "      <td>0.000000</td>\n",
       "      <td>0.000000</td>\n",
       "      <td>...</td>\n",
       "      <td>1.0</td>\n",
       "      <td>0.449799</td>\n",
       "      <td>0.244980</td>\n",
       "      <td>1417.0</td>\n",
       "      <td>4.698795</td>\n",
       "      <td>0.0</td>\n",
       "      <td>0.0</td>\n",
       "      <td>2.221120</td>\n",
       "      <td>0.0</td>\n",
       "      <td>9</td>\n",
       "    </tr>\n",
       "    <tr>\n",
       "      <th>0.047619</th>\n",
       "      <td>0.049887</td>\n",
       "      <td>0.081633</td>\n",
       "      <td>0.004535</td>\n",
       "      <td>0.029478</td>\n",
       "      <td>1006</td>\n",
       "      <td>14.285714</td>\n",
       "      <td>0.000000</td>\n",
       "      <td>9.523810</td>\n",
       "      <td>0.000000</td>\n",
       "      <td>0.000000</td>\n",
       "      <td>...</td>\n",
       "      <td>1.0</td>\n",
       "      <td>0.458050</td>\n",
       "      <td>0.249433</td>\n",
       "      <td>2386.0</td>\n",
       "      <td>4.426304</td>\n",
       "      <td>0.0</td>\n",
       "      <td>0.0</td>\n",
       "      <td>2.466030</td>\n",
       "      <td>0.0</td>\n",
       "      <td>8</td>\n",
       "    </tr>\n",
       "    <tr>\n",
       "      <th>0.086486</th>\n",
       "      <td>0.081081</td>\n",
       "      <td>0.110811</td>\n",
       "      <td>0.002703</td>\n",
       "      <td>0.056757</td>\n",
       "      <td>1007</td>\n",
       "      <td>0.000000</td>\n",
       "      <td>12.500000</td>\n",
       "      <td>9.375000</td>\n",
       "      <td>0.000000</td>\n",
       "      <td>0.000000</td>\n",
       "      <td>...</td>\n",
       "      <td>1.0</td>\n",
       "      <td>0.521622</td>\n",
       "      <td>0.218919</td>\n",
       "      <td>2092.0</td>\n",
       "      <td>4.659459</td>\n",
       "      <td>0.0</td>\n",
       "      <td>0.0</td>\n",
       "      <td>2.572774</td>\n",
       "      <td>0.0</td>\n",
       "      <td>10</td>\n",
       "    </tr>\n",
       "    <tr>\n",
       "      <th>0.096838</th>\n",
       "      <td>0.098814</td>\n",
       "      <td>0.079051</td>\n",
       "      <td>0.000000</td>\n",
       "      <td>0.041502</td>\n",
       "      <td>1008</td>\n",
       "      <td>0.000000</td>\n",
       "      <td>0.000000</td>\n",
       "      <td>0.000000</td>\n",
       "      <td>6.122449</td>\n",
       "      <td>0.000000</td>\n",
       "      <td>...</td>\n",
       "      <td>1.0</td>\n",
       "      <td>0.357708</td>\n",
       "      <td>0.243083</td>\n",
       "      <td>2545.0</td>\n",
       "      <td>4.023857</td>\n",
       "      <td>0.0</td>\n",
       "      <td>0.0</td>\n",
       "      <td>1.957660</td>\n",
       "      <td>0.0</td>\n",
       "      <td>10</td>\n",
       "    </tr>\n",
       "    <tr>\n",
       "      <th>0.037296</th>\n",
       "      <td>0.118881</td>\n",
       "      <td>0.062937</td>\n",
       "      <td>0.000000</td>\n",
       "      <td>0.041958</td>\n",
       "      <td>1009</td>\n",
       "      <td>0.000000</td>\n",
       "      <td>0.000000</td>\n",
       "      <td>0.000000</td>\n",
       "      <td>0.000000</td>\n",
       "      <td>0.000000</td>\n",
       "      <td>...</td>\n",
       "      <td>1.0</td>\n",
       "      <td>0.426573</td>\n",
       "      <td>0.265734</td>\n",
       "      <td>2285.0</td>\n",
       "      <td>4.324766</td>\n",
       "      <td>0.0</td>\n",
       "      <td>0.0</td>\n",
       "      <td>2.006914</td>\n",
       "      <td>0.0</td>\n",
       "      <td>8</td>\n",
       "    </tr>\n",
       "    <tr>\n",
       "      <th>0.092050</th>\n",
       "      <td>0.041841</td>\n",
       "      <td>0.087866</td>\n",
       "      <td>0.008368</td>\n",
       "      <td>0.016736</td>\n",
       "      <td>100</td>\n",
       "      <td>0.000000</td>\n",
       "      <td>4.545455</td>\n",
       "      <td>0.000000</td>\n",
       "      <td>0.000000</td>\n",
       "      <td>0.000000</td>\n",
       "      <td>...</td>\n",
       "      <td>1.0</td>\n",
       "      <td>0.493724</td>\n",
       "      <td>0.234310</td>\n",
       "      <td>1149.0</td>\n",
       "      <td>3.832636</td>\n",
       "      <td>0.0</td>\n",
       "      <td>0.0</td>\n",
       "      <td>1.961241</td>\n",
       "      <td>0.0</td>\n",
       "      <td>7</td>\n",
       "    </tr>\n",
       "    <tr>\n",
       "      <th>0.064151</th>\n",
       "      <td>0.098113</td>\n",
       "      <td>0.079245</td>\n",
       "      <td>0.015094</td>\n",
       "      <td>0.056604</td>\n",
       "      <td>1010</td>\n",
       "      <td>0.000000</td>\n",
       "      <td>5.882353</td>\n",
       "      <td>0.000000</td>\n",
       "      <td>0.000000</td>\n",
       "      <td>0.000000</td>\n",
       "      <td>...</td>\n",
       "      <td>1.0</td>\n",
       "      <td>0.415094</td>\n",
       "      <td>0.166038</td>\n",
       "      <td>1464.0</td>\n",
       "      <td>4.518939</td>\n",
       "      <td>0.0</td>\n",
       "      <td>0.0</td>\n",
       "      <td>1.965522</td>\n",
       "      <td>0.0</td>\n",
       "      <td>8</td>\n",
       "    </tr>\n",
       "    <tr>\n",
       "      <th>0.077859</th>\n",
       "      <td>0.102190</td>\n",
       "      <td>0.090024</td>\n",
       "      <td>0.009732</td>\n",
       "      <td>0.041363</td>\n",
       "      <td>1011</td>\n",
       "      <td>3.125000</td>\n",
       "      <td>0.000000</td>\n",
       "      <td>0.000000</td>\n",
       "      <td>3.125000</td>\n",
       "      <td>3.125000</td>\n",
       "      <td>...</td>\n",
       "      <td>1.0</td>\n",
       "      <td>0.467153</td>\n",
       "      <td>0.216545</td>\n",
       "      <td>2292.0</td>\n",
       "      <td>4.583942</td>\n",
       "      <td>0.0</td>\n",
       "      <td>0.0</td>\n",
       "      <td>2.254951</td>\n",
       "      <td>0.0</td>\n",
       "      <td>8</td>\n",
       "    </tr>\n",
       "    <tr>\n",
       "      <th>0.095238</th>\n",
       "      <td>0.064426</td>\n",
       "      <td>0.075630</td>\n",
       "      <td>0.000000</td>\n",
       "      <td>0.005602</td>\n",
       "      <td>1012</td>\n",
       "      <td>5.882353</td>\n",
       "      <td>20.588235</td>\n",
       "      <td>5.882353</td>\n",
       "      <td>0.000000</td>\n",
       "      <td>0.000000</td>\n",
       "      <td>...</td>\n",
       "      <td>1.0</td>\n",
       "      <td>0.484594</td>\n",
       "      <td>0.215686</td>\n",
       "      <td>1992.0</td>\n",
       "      <td>4.560224</td>\n",
       "      <td>0.0</td>\n",
       "      <td>0.0</td>\n",
       "      <td>2.371608</td>\n",
       "      <td>0.0</td>\n",
       "      <td>9</td>\n",
       "    </tr>\n",
       "    <tr>\n",
       "      <th>0.056213</th>\n",
       "      <td>0.073964</td>\n",
       "      <td>0.109467</td>\n",
       "      <td>0.008876</td>\n",
       "      <td>0.026627</td>\n",
       "      <td>1013</td>\n",
       "      <td>0.000000</td>\n",
       "      <td>5.263158</td>\n",
       "      <td>0.000000</td>\n",
       "      <td>0.000000</td>\n",
       "      <td>0.000000</td>\n",
       "      <td>...</td>\n",
       "      <td>1.0</td>\n",
       "      <td>0.343195</td>\n",
       "      <td>0.251479</td>\n",
       "      <td>1646.0</td>\n",
       "      <td>3.872781</td>\n",
       "      <td>0.0</td>\n",
       "      <td>0.0</td>\n",
       "      <td>1.785485</td>\n",
       "      <td>0.0</td>\n",
       "      <td>7</td>\n",
       "    </tr>\n",
       "    <tr>\n",
       "      <th>0.075145</th>\n",
       "      <td>0.075145</td>\n",
       "      <td>0.052023</td>\n",
       "      <td>0.005780</td>\n",
       "      <td>0.023121</td>\n",
       "      <td>1014</td>\n",
       "      <td>0.000000</td>\n",
       "      <td>3.846154</td>\n",
       "      <td>0.000000</td>\n",
       "      <td>0.000000</td>\n",
       "      <td>0.000000</td>\n",
       "      <td>...</td>\n",
       "      <td>1.0</td>\n",
       "      <td>0.514451</td>\n",
       "      <td>0.231214</td>\n",
       "      <td>1926.0</td>\n",
       "      <td>4.583815</td>\n",
       "      <td>0.0</td>\n",
       "      <td>0.0</td>\n",
       "      <td>2.146424</td>\n",
       "      <td>0.0</td>\n",
       "      <td>8</td>\n",
       "    </tr>\n",
       "    <tr>\n",
       "      <th>0.050584</th>\n",
       "      <td>0.095331</td>\n",
       "      <td>0.085603</td>\n",
       "      <td>0.001946</td>\n",
       "      <td>0.035019</td>\n",
       "      <td>1015</td>\n",
       "      <td>0.000000</td>\n",
       "      <td>11.538462</td>\n",
       "      <td>0.000000</td>\n",
       "      <td>0.000000</td>\n",
       "      <td>0.000000</td>\n",
       "      <td>...</td>\n",
       "      <td>1.0</td>\n",
       "      <td>0.416342</td>\n",
       "      <td>0.247082</td>\n",
       "      <td>2520.0</td>\n",
       "      <td>3.919922</td>\n",
       "      <td>0.0</td>\n",
       "      <td>0.0</td>\n",
       "      <td>1.836967</td>\n",
       "      <td>0.0</td>\n",
       "      <td>10</td>\n",
       "    </tr>\n",
       "    <tr>\n",
       "      <th>0.039855</th>\n",
       "      <td>0.061594</td>\n",
       "      <td>0.086957</td>\n",
       "      <td>0.003623</td>\n",
       "      <td>0.054348</td>\n",
       "      <td>1016</td>\n",
       "      <td>0.000000</td>\n",
       "      <td>0.000000</td>\n",
       "      <td>0.000000</td>\n",
       "      <td>0.000000</td>\n",
       "      <td>0.000000</td>\n",
       "      <td>...</td>\n",
       "      <td>1.0</td>\n",
       "      <td>0.438406</td>\n",
       "      <td>0.246377</td>\n",
       "      <td>1411.0</td>\n",
       "      <td>4.123188</td>\n",
       "      <td>0.0</td>\n",
       "      <td>0.0</td>\n",
       "      <td>2.046393</td>\n",
       "      <td>0.0</td>\n",
       "      <td>8</td>\n",
       "    </tr>\n",
       "    <tr>\n",
       "      <th>0.075676</th>\n",
       "      <td>0.056757</td>\n",
       "      <td>0.064865</td>\n",
       "      <td>0.000000</td>\n",
       "      <td>0.035135</td>\n",
       "      <td>1017</td>\n",
       "      <td>0.000000</td>\n",
       "      <td>7.142857</td>\n",
       "      <td>0.000000</td>\n",
       "      <td>0.000000</td>\n",
       "      <td>0.000000</td>\n",
       "      <td>...</td>\n",
       "      <td>1.0</td>\n",
       "      <td>0.348649</td>\n",
       "      <td>0.251351</td>\n",
       "      <td>1878.0</td>\n",
       "      <td>4.113514</td>\n",
       "      <td>0.0</td>\n",
       "      <td>0.0</td>\n",
       "      <td>1.916664</td>\n",
       "      <td>0.0</td>\n",
       "      <td>8</td>\n",
       "    </tr>\n",
       "    <tr>\n",
       "      <th>0.086000</th>\n",
       "      <td>0.088000</td>\n",
       "      <td>0.090000</td>\n",
       "      <td>0.002000</td>\n",
       "      <td>0.018000</td>\n",
       "      <td>1018</td>\n",
       "      <td>0.000000</td>\n",
       "      <td>2.325581</td>\n",
       "      <td>6.976744</td>\n",
       "      <td>2.325581</td>\n",
       "      <td>0.000000</td>\n",
       "      <td>...</td>\n",
       "      <td>1.0</td>\n",
       "      <td>0.556000</td>\n",
       "      <td>0.236000</td>\n",
       "      <td>2964.0</td>\n",
       "      <td>4.921687</td>\n",
       "      <td>0.0</td>\n",
       "      <td>0.0</td>\n",
       "      <td>2.736025</td>\n",
       "      <td>0.0</td>\n",
       "      <td>10</td>\n",
       "    </tr>\n",
       "  </tbody>\n",
       "</table>\n",
       "<p>20 rows × 42 columns</p>\n",
       "</div>"
      ],
      "text/plain": [
       "          AdjRatioFeature  AdvRatioFeature  ArtRatioFeature  CardRatioFeature  \\\n",
       "0.101370         0.086301         0.109589         0.006849          0.043836   \n",
       "0.086310         0.056548         0.086310         0.005952          0.032738   \n",
       "0.054755         0.100865         0.069164         0.000000          0.034582   \n",
       "0.067568         0.067568         0.072973         0.000000          0.040541   \n",
       "0.065476         0.083333         0.065476         0.005952          0.065476   \n",
       "0.040161         0.048193         0.064257         0.000000          0.048193   \n",
       "0.047619         0.049887         0.081633         0.004535          0.029478   \n",
       "0.086486         0.081081         0.110811         0.002703          0.056757   \n",
       "0.096838         0.098814         0.079051         0.000000          0.041502   \n",
       "0.037296         0.118881         0.062937         0.000000          0.041958   \n",
       "0.092050         0.041841         0.087866         0.008368          0.016736   \n",
       "0.064151         0.098113         0.079245         0.015094          0.056604   \n",
       "0.077859         0.102190         0.090024         0.009732          0.041363   \n",
       "0.095238         0.064426         0.075630         0.000000          0.005602   \n",
       "0.056213         0.073964         0.109467         0.008876          0.026627   \n",
       "0.075145         0.075145         0.052023         0.005780          0.023121   \n",
       "0.050584         0.095331         0.085603         0.001946          0.035019   \n",
       "0.039855         0.061594         0.086957         0.003623          0.054348   \n",
       "0.075676         0.056757         0.064865         0.000000          0.035135   \n",
       "0.086000         0.088000         0.090000         0.002000          0.018000   \n",
       "\n",
       "          ConjRatioFeature  EndingAble   EndingAl  EndingFul  EndingIble  \\\n",
       "0.101370              1000    6.756757  17.567568   2.702703    0.000000   \n",
       "0.086310              1001    6.896552  10.344828   0.000000    0.000000   \n",
       "0.054755              1002    0.000000  26.315789   5.263158    0.000000   \n",
       "0.067568              1003    0.000000   0.000000   0.000000    8.000000   \n",
       "0.065476              1004   18.181818   0.000000   0.000000    0.000000   \n",
       "0.040161              1005    0.000000   0.000000  10.000000    0.000000   \n",
       "0.047619              1006   14.285714   0.000000   9.523810    0.000000   \n",
       "0.086486              1007    0.000000  12.500000   9.375000    0.000000   \n",
       "0.096838              1008    0.000000   0.000000   0.000000    6.122449   \n",
       "0.037296              1009    0.000000   0.000000   0.000000    0.000000   \n",
       "0.092050               100    0.000000   4.545455   0.000000    0.000000   \n",
       "0.064151              1010    0.000000   5.882353   0.000000    0.000000   \n",
       "0.077859              1011    3.125000   0.000000   0.000000    3.125000   \n",
       "0.095238              1012    5.882353  20.588235   5.882353    0.000000   \n",
       "0.056213              1013    0.000000   5.263158   0.000000    0.000000   \n",
       "0.075145              1014    0.000000   3.846154   0.000000    0.000000   \n",
       "0.050584              1015    0.000000  11.538462   0.000000    0.000000   \n",
       "0.039855              1016    0.000000   0.000000   0.000000    0.000000   \n",
       "0.075676              1017    0.000000   7.142857   0.000000    0.000000   \n",
       "0.086000              1018    0.000000   2.325581   6.976744    2.325581   \n",
       "\n",
       "          EndingIc   ...     TokLenRatio  TypeTokenRatio  VRatioFeature  \\\n",
       "0.101370  0.000000   ...             1.0        0.419178       0.215068   \n",
       "0.086310  6.896552   ...             1.0        0.443452       0.223214   \n",
       "0.054755  0.000000   ...             1.0        0.449568       0.265130   \n",
       "0.067568  0.000000   ...             1.0        0.383784       0.232432   \n",
       "0.065476  0.000000   ...             1.0        0.660714       0.226190   \n",
       "0.040161  0.000000   ...             1.0        0.449799       0.244980   \n",
       "0.047619  0.000000   ...             1.0        0.458050       0.249433   \n",
       "0.086486  0.000000   ...             1.0        0.521622       0.218919   \n",
       "0.096838  0.000000   ...             1.0        0.357708       0.243083   \n",
       "0.037296  0.000000   ...             1.0        0.426573       0.265734   \n",
       "0.092050  0.000000   ...             1.0        0.493724       0.234310   \n",
       "0.064151  0.000000   ...             1.0        0.415094       0.166038   \n",
       "0.077859  3.125000   ...             1.0        0.467153       0.216545   \n",
       "0.095238  0.000000   ...             1.0        0.484594       0.215686   \n",
       "0.056213  0.000000   ...             1.0        0.343195       0.251479   \n",
       "0.075145  0.000000   ...             1.0        0.514451       0.231214   \n",
       "0.050584  0.000000   ...             1.0        0.416342       0.247082   \n",
       "0.039855  0.000000   ...             1.0        0.438406       0.246377   \n",
       "0.075676  0.000000   ...             1.0        0.348649       0.251351   \n",
       "0.086000  0.000000   ...             1.0        0.556000       0.236000   \n",
       "\n",
       "          avgNumCharsSent  avgNumCharsToken  nrOfCommas  \\\n",
       "0.101370           4288.0          4.878082         0.0   \n",
       "0.086310           1688.0          4.026866         0.0   \n",
       "0.054755           1735.0          4.020173         0.0   \n",
       "0.067568           2051.0          4.554348         0.0   \n",
       "0.065476            941.0          4.607143         0.0   \n",
       "0.040161           1417.0          4.698795         0.0   \n",
       "0.047619           2386.0          4.426304         0.0   \n",
       "0.086486           2092.0          4.659459         0.0   \n",
       "0.096838           2545.0          4.023857         0.0   \n",
       "0.037296           2285.0          4.324766         0.0   \n",
       "0.092050           1149.0          3.832636         0.0   \n",
       "0.064151           1464.0          4.518939         0.0   \n",
       "0.077859           2292.0          4.583942         0.0   \n",
       "0.095238           1992.0          4.560224         0.0   \n",
       "0.056213           1646.0          3.872781         0.0   \n",
       "0.075145           1926.0          4.583815         0.0   \n",
       "0.050584           2520.0          3.919922         0.0   \n",
       "0.039855           1411.0          4.123188         0.0   \n",
       "0.075676           1878.0          4.113514         0.0   \n",
       "0.086000           2964.0          4.921687         0.0   \n",
       "\n",
       "          standardDevCharsPerSentence  standardDevCharsPerToken  \\\n",
       "0.101370                          0.0                  2.702143   \n",
       "0.086310                          0.0                  2.144593   \n",
       "0.054755                          0.0                  2.068606   \n",
       "0.067568                          0.0                  2.133400   \n",
       "0.065476                          0.0                  2.447145   \n",
       "0.040161                          0.0                  2.221120   \n",
       "0.047619                          0.0                  2.466030   \n",
       "0.086486                          0.0                  2.572774   \n",
       "0.096838                          0.0                  1.957660   \n",
       "0.037296                          0.0                  2.006914   \n",
       "0.092050                          0.0                  1.961241   \n",
       "0.064151                          0.0                  1.965522   \n",
       "0.077859                          0.0                  2.254951   \n",
       "0.095238                          0.0                  2.371608   \n",
       "0.056213                          0.0                  1.785485   \n",
       "0.075145                          0.0                  2.146424   \n",
       "0.050584                          0.0                  1.836967   \n",
       "0.039855                          0.0                  2.046393   \n",
       "0.075676                          0.0                  1.916664   \n",
       "0.086000                          0.0                  2.736025   \n",
       "\n",
       "          standardDevTokensPerSentence  outcome  \n",
       "0.101370                           0.0       12  \n",
       "0.086310                           0.0        8  \n",
       "0.054755                           0.0        8  \n",
       "0.067568                           0.0        9  \n",
       "0.065476                           0.0        6  \n",
       "0.040161                           0.0        9  \n",
       "0.047619                           0.0        8  \n",
       "0.086486                           0.0       10  \n",
       "0.096838                           0.0       10  \n",
       "0.037296                           0.0        8  \n",
       "0.092050                           0.0        7  \n",
       "0.064151                           0.0        8  \n",
       "0.077859                           0.0        8  \n",
       "0.095238                           0.0        9  \n",
       "0.056213                           0.0        7  \n",
       "0.075145                           0.0        8  \n",
       "0.050584                           0.0       10  \n",
       "0.039855                           0.0        8  \n",
       "0.075676                           0.0        8  \n",
       "0.086000                           0.0       10  \n",
       "\n",
       "[20 rows x 42 columns]"
      ]
     },
     "execution_count": 171,
     "metadata": {},
     "output_type": "execute_result"
    }
   ],
   "source": [
    "df.head(20)"
   ]
  },
  {
   "cell_type": "markdown",
   "metadata": {},
   "source": [
    "<strong style=\"color: blue\">Lösung: </strong>"
   ]
  },
  {
   "cell_type": "code",
   "execution_count": 172,
   "metadata": {},
   "outputs": [
    {
     "name": "stdout",
     "output_type": "stream",
     "text": [
      "[730. 336. 347. ... 590. 350. 449.]\n"
     ]
    }
   ],
   "source": [
    "f1 = df['NrofTokens'].values\n",
    "print(f1)"
   ]
  },
  {
   "cell_type": "markdown",
   "metadata": {},
   "source": [
    "You can plot the individual features across the different total scores."
   ]
  },
  {
   "cell_type": "code",
   "execution_count": 173,
   "metadata": {},
   "outputs": [
    {
     "name": "stderr",
     "output_type": "stream",
     "text": [
      "No handles with labels found to put in legend.\n"
     ]
    },
    {
     "data": {
      "image/png": "[encoded data removed]",
      "text/plain": [
       "<Figure size 432x288 with 1 Axes>"
      ]
     },
     "metadata": {
      "needs_background": "light"
     },
     "output_type": "display_data"
    }
   ],
   "source": [
    "label ='avgNumCharsToken'\n",
    "plt.legend(prop={'size': 12})\n",
    "plt.title(label+' vs Scores')\n",
    "plt.xlabel(label)\n",
    "plt.ylabel('Density')\n",
    "data = df[df.outcome == 2]\n",
    "sns.distplot(data[label], hist = False, kde = True, label='Score 2')\n",
    "data = df[df.outcome == 4]\n",
    "sns.distplot(data[label], hist = False, kde = True, label='Score 4')\n",
    "data = df[df.outcome == 5]\n",
    "sns.distplot(data[label], hist = False, kde = True, label='Score 5')\n",
    "data = df[df.outcome == 6]\n",
    "sns.distplot(data[label], hist = False, kde = True, label='Score 6')\n",
    "data = df[df.outcome == 7]\n",
    "sns.distplot(data[label], hist = False, kde = True, label='Score 7')\n",
    "data = df[df.outcome == 8]\n",
    "sns.distplot(data[label], hist = False, kde = True, label='Score 8')\n",
    "data = df[df.outcome == 9]\n",
    "sns.distplot(data[label], hist = False, kde = True, label='Score 9')\n",
    "data = df[df.outcome == 10]\n",
    "sns.distplot(data[label], hist = False, kde = True, label='Score 10')\n",
    "data = df[df.outcome == 11]\n",
    "sns.distplot(data[label], hist = False, kde = True, label='Score 11')\n",
    "data = df[df.outcome == 12]\n",
    "sns.distplot(data[label], hist = False, kde = True, label='Score 12')\n",
    "\n",
    "plt.show()"
   ]
  },
  {
   "cell_type": "markdown",
   "metadata": {},
   "source": [
    "<div class=\"task_description\">\n",
    "   <i class=\"subtask\">7.2.2</i> <i class=\"l1\">L1</i> <br>\n",
    "</div>\n",
    "\n",
    "Compare the plots for the three features, NrofTokens (essay length), avgNumCharsToken (word length) and PronounRatioI (what proportion of pronouns is 'I'). Which feature separates the different essay levels particularly well and which does not?"
   ]
  },
  {
   "cell_type": "markdown",
   "metadata": {},
   "source": [
    "<strong style=\"color: blue\">Lösung: </strong>\n",
    "\n",
    "Essay length works particularly well, the pronoun feature does not work well."
   ]
  },
  {
   "cell_type": "markdown",
   "metadata": {},
   "source": [
    "<div class=\"task_description\">\n",
    "   <i class=\"subtask\">7.2.3</i> <i class=\"l2\">L2</i> <br>\n",
    "</div>\n",
    "\n",
    "Train a Decision Tree Model on the data with last week's code and evaluate."
   ]
  },
  {
   "cell_type": "markdown",
   "metadata": {},
   "source": [
    "<strong style=\"color: blue\">Lösung: </strong>"
   ]
  },
  {
   "cell_type": "code",
   "execution_count": 174,
   "metadata": {},
   "outputs": [
    {
     "name": "stdout",
     "output_type": "stream",
     "text": [
      "              precision    recall  f1-score   support\n",
      "\n",
      "           2       1.00      1.00      1.00         2\n",
      "           3       0.00      0.00      0.00         1\n",
      "           4       0.57      1.00      0.73         4\n",
      "           5       0.00      0.00      0.00         5\n",
      "           6       0.64      0.70      0.67        23\n",
      "           7       0.46      0.37      0.41        30\n",
      "           8       0.68      0.76      0.72       142\n",
      "           9       0.30      0.24      0.26        68\n",
      "          10       0.34      0.56      0.43        54\n",
      "          11       0.00      0.00      0.00        18\n",
      "          12       0.00      0.00      0.00        10\n",
      "\n",
      "    accuracy                           0.52       357\n",
      "   macro avg       0.36      0.42      0.38       357\n",
      "weighted avg       0.47      0.52      0.49       357\n",
      "\n"
     ]
    },
    {
     "name": "stderr",
     "output_type": "stream",
     "text": [
      "/usr/local/lib/python3.6/dist-packages/sklearn/metrics/classification.py:1437: UndefinedMetricWarning: Precision and F-score are ill-defined and being set to 0.0 in labels with no predicted samples.\n",
      "  'precision', 'predicted', average, warn_for)\n"
     ]
    }
   ],
   "source": [
    "x = df.iloc[:, 1:len(df.columns)-1]\n",
    "y = df.iloc[:, [len(df.columns)-1]]\n",
    "\n",
    "x_train, x_test, y_train, y_test = train_test_split(x, y, test_size=0.2)\n",
    "\n",
    "c_tree = DecisionTreeClassifier(max_depth=4)\n",
    "c_tree.fit(x_train, y_train)\n",
    "\n",
    "predicted = list(c_tree.predict(x_test))\n",
    "gold = list(y_test.loc[:, \"outcome\"])\n",
    "print(classification_report(gold,predicted))"
   ]
  },
  {
   "cell_type": "markdown",
   "metadata": {},
   "source": [
    "<div class=\"task_description\">\n",
    "    <i class=\"task\">Task 7.3:</i> <br>\n",
    "</div>\n",
    "The following code reads the essays from the first prompt of the ASAP dataset and their corresponding scores."
   ]
  },
  {
   "cell_type": "code",
   "execution_count": 175,
   "metadata": {},
   "outputs": [],
   "source": [
    "df = pd.read_csv('prompt1.tsv', sep='\\t')\n",
    "essays = df['text']\n",
    "y = df['score1'].values\n",
    "\n",
    "# Essays are randomly split into 75% training data nd 25% test data\n",
    "essays_train, essays_test, y_train, y_test = train_test_split(essays, y, test_size=0.25, random_state=1000)"
   ]
  },
  {
   "cell_type": "code",
   "execution_count": 176,
   "metadata": {},
   "outputs": [
    {
     "data": {
      "text/html": [
       "<div>\n",
       "<style scoped>\n",
       "    .dataframe tbody tr th:only-of-type {\n",
       "        vertical-align: middle;\n",
       "    }\n",
       "\n",
       "    .dataframe tbody tr th {\n",
       "        vertical-align: top;\n",
       "    }\n",
       "\n",
       "    .dataframe thead th {\n",
       "        text-align: right;\n",
       "    }\n",
       "</style>\n",
       "<table border=\"1\" class=\"dataframe\">\n",
       "  <thead>\n",
       "    <tr style=\"text-align: right;\">\n",
       "      <th></th>\n",
       "      <th>id</th>\n",
       "      <th>prompt</th>\n",
       "      <th>text</th>\n",
       "      <th>score1</th>\n",
       "    </tr>\n",
       "  </thead>\n",
       "  <tbody>\n",
       "    <tr>\n",
       "      <th>0</th>\n",
       "      <td>1</td>\n",
       "      <td>1</td>\n",
       "      <td>Dear local newspaper, I think effects computer...</td>\n",
       "      <td>4</td>\n",
       "    </tr>\n",
       "    <tr>\n",
       "      <th>1</th>\n",
       "      <td>2</td>\n",
       "      <td>1</td>\n",
       "      <td>Dear @CAPS1 @CAPS2, I believe that using compu...</td>\n",
       "      <td>5</td>\n",
       "    </tr>\n",
       "    <tr>\n",
       "      <th>2</th>\n",
       "      <td>3</td>\n",
       "      <td>1</td>\n",
       "      <td>Dear, @CAPS1 @CAPS2 @CAPS3 More and more peopl...</td>\n",
       "      <td>4</td>\n",
       "    </tr>\n",
       "    <tr>\n",
       "      <th>3</th>\n",
       "      <td>4</td>\n",
       "      <td>1</td>\n",
       "      <td>Dear Local Newspaper, @CAPS1 I have found that...</td>\n",
       "      <td>5</td>\n",
       "    </tr>\n",
       "    <tr>\n",
       "      <th>4</th>\n",
       "      <td>5</td>\n",
       "      <td>1</td>\n",
       "      <td>Dear @LOCATION1, I know having computers has a...</td>\n",
       "      <td>4</td>\n",
       "    </tr>\n",
       "    <tr>\n",
       "      <th>5</th>\n",
       "      <td>6</td>\n",
       "      <td>1</td>\n",
       "      <td>Dear @LOCATION1, I think that computers have a...</td>\n",
       "      <td>4</td>\n",
       "    </tr>\n",
       "    <tr>\n",
       "      <th>6</th>\n",
       "      <td>7</td>\n",
       "      <td>1</td>\n",
       "      <td>Did you know that more and more people these d...</td>\n",
       "      <td>5</td>\n",
       "    </tr>\n",
       "    <tr>\n",
       "      <th>7</th>\n",
       "      <td>8</td>\n",
       "      <td>1</td>\n",
       "      <td>@PERCENT1 of people agree that computers make ...</td>\n",
       "      <td>5</td>\n",
       "    </tr>\n",
       "    <tr>\n",
       "      <th>8</th>\n",
       "      <td>9</td>\n",
       "      <td>1</td>\n",
       "      <td>Dear reader, @ORGANIZATION1 has had a dramatic...</td>\n",
       "      <td>4</td>\n",
       "    </tr>\n",
       "    <tr>\n",
       "      <th>9</th>\n",
       "      <td>10</td>\n",
       "      <td>1</td>\n",
       "      <td>In the @LOCATION1 we have the technology of a ...</td>\n",
       "      <td>5</td>\n",
       "    </tr>\n",
       "    <tr>\n",
       "      <th>10</th>\n",
       "      <td>11</td>\n",
       "      <td>1</td>\n",
       "      <td>Dear @LOCATION1, @CAPS1 people acknowledge the...</td>\n",
       "      <td>4</td>\n",
       "    </tr>\n",
       "    <tr>\n",
       "      <th>11</th>\n",
       "      <td>12</td>\n",
       "      <td>1</td>\n",
       "      <td>Dear @CAPS1 @CAPS2 I feel that computers do ta...</td>\n",
       "      <td>4</td>\n",
       "    </tr>\n",
       "    <tr>\n",
       "      <th>12</th>\n",
       "      <td>13</td>\n",
       "      <td>1</td>\n",
       "      <td>Dear local newspaper I raed ur argument on the...</td>\n",
       "      <td>4</td>\n",
       "    </tr>\n",
       "    <tr>\n",
       "      <th>13</th>\n",
       "      <td>14</td>\n",
       "      <td>1</td>\n",
       "      <td>My three detaileds for this news paper article...</td>\n",
       "      <td>3</td>\n",
       "    </tr>\n",
       "    <tr>\n",
       "      <th>14</th>\n",
       "      <td>15</td>\n",
       "      <td>1</td>\n",
       "      <td>Dear, In this world today we should have every...</td>\n",
       "      <td>3</td>\n",
       "    </tr>\n",
       "    <tr>\n",
       "      <th>15</th>\n",
       "      <td>16</td>\n",
       "      <td>1</td>\n",
       "      <td>Dear @ORGANIZATION1, The computer blinked to l...</td>\n",
       "      <td>6</td>\n",
       "    </tr>\n",
       "    <tr>\n",
       "      <th>16</th>\n",
       "      <td>17</td>\n",
       "      <td>1</td>\n",
       "      <td>Dear Local Newspaper, I belive that computers ...</td>\n",
       "      <td>4</td>\n",
       "    </tr>\n",
       "    <tr>\n",
       "      <th>17</th>\n",
       "      <td>18</td>\n",
       "      <td>1</td>\n",
       "      <td>Dear Local Newspaper, I must admit that the ex...</td>\n",
       "      <td>4</td>\n",
       "    </tr>\n",
       "    <tr>\n",
       "      <th>18</th>\n",
       "      <td>19</td>\n",
       "      <td>1</td>\n",
       "      <td>I aegre waf the evansmant ov tnachnolage. The ...</td>\n",
       "      <td>2</td>\n",
       "    </tr>\n",
       "    <tr>\n",
       "      <th>19</th>\n",
       "      <td>20</td>\n",
       "      <td>1</td>\n",
       "      <td>Well computers can be a good or a bad thing. I...</td>\n",
       "      <td>3</td>\n",
       "    </tr>\n",
       "  </tbody>\n",
       "</table>\n",
       "</div>"
      ],
      "text/plain": [
       "    id  prompt                                               text  score1\n",
       "0    1       1  Dear local newspaper, I think effects computer...       4\n",
       "1    2       1  Dear @CAPS1 @CAPS2, I believe that using compu...       5\n",
       "2    3       1  Dear, @CAPS1 @CAPS2 @CAPS3 More and more peopl...       4\n",
       "3    4       1  Dear Local Newspaper, @CAPS1 I have found that...       5\n",
       "4    5       1  Dear @LOCATION1, I know having computers has a...       4\n",
       "5    6       1  Dear @LOCATION1, I think that computers have a...       4\n",
       "6    7       1  Did you know that more and more people these d...       5\n",
       "7    8       1  @PERCENT1 of people agree that computers make ...       5\n",
       "8    9       1  Dear reader, @ORGANIZATION1 has had a dramatic...       4\n",
       "9   10       1  In the @LOCATION1 we have the technology of a ...       5\n",
       "10  11       1  Dear @LOCATION1, @CAPS1 people acknowledge the...       4\n",
       "11  12       1  Dear @CAPS1 @CAPS2 I feel that computers do ta...       4\n",
       "12  13       1  Dear local newspaper I raed ur argument on the...       4\n",
       "13  14       1  My three detaileds for this news paper article...       3\n",
       "14  15       1  Dear, In this world today we should have every...       3\n",
       "15  16       1  Dear @ORGANIZATION1, The computer blinked to l...       6\n",
       "16  17       1  Dear Local Newspaper, I belive that computers ...       4\n",
       "17  18       1  Dear Local Newspaper, I must admit that the ex...       4\n",
       "18  19       1  I aegre waf the evansmant ov tnachnolage. The ...       2\n",
       "19  20       1  Well computers can be a good or a bad thing. I...       3"
      ]
     },
     "execution_count": 176,
     "metadata": {},
     "output_type": "execute_result"
    }
   ],
   "source": [
    "df.head(20)"
   ]
  },
  {
   "cell_type": "markdown",
   "metadata": {},
   "source": [
    "We convert the texts into a matrix of token counts based on the words in the training data. <br>\n",
    "This is a vector that counts for each word in the train data how often it occurs in an essay:"
   ]
  },
  {
   "cell_type": "code",
   "execution_count": 177,
   "metadata": {},
   "outputs": [],
   "source": [
    "vectorizer = CountVectorizer()\n",
    "vectorizer.fit(essays_train)\n",
    "X_train = vectorizer.transform(essays_train)\n",
    "X_test  = vectorizer.transform(essays_test)"
   ]
  },
  {
   "cell_type": "markdown",
   "metadata": {},
   "source": [
    "<div class=\"task_description\">\n",
    "   <i class=\"subtask\">7.3.1</i> <i class=\"l2\">L2</i> <br>\n",
    "</div>\n",
    "\n",
    "Print the shape of the train and test data. <br> How many essays do we have? How many features does each essay have?"
   ]
  },
  {
   "cell_type": "markdown",
   "metadata": {},
   "source": [
    "<strong style=\"color: blue\">Lösung: </strong>"
   ]
  },
  {
   "cell_type": "code",
   "execution_count": 178,
   "metadata": {},
   "outputs": [
    {
     "name": "stdout",
     "output_type": "stream",
     "text": [
      "(1337, 13349)\n",
      "(446, 13349)\n"
     ]
    }
   ],
   "source": [
    "print(X_train.shape)\n",
    "print(X_test.shape)"
   ]
  },
  {
   "cell_type": "markdown",
   "metadata": {},
   "source": [
    "1337 training essays, 446 test essays, 13349 features"
   ]
  },
  {
   "cell_type": "markdown",
   "metadata": {},
   "source": [
    "First we use a standard shallow learning classifier on these features"
   ]
  },
  {
   "cell_type": "code",
   "execution_count": 179,
   "metadata": {},
   "outputs": [
    {
     "name": "stderr",
     "output_type": "stream",
     "text": [
      "/usr/local/lib/python3.6/dist-packages/sklearn/linear_model/logistic.py:432: FutureWarning: Default solver will be changed to 'lbfgs' in 0.22. Specify a solver to silence this warning.\n",
      "  FutureWarning)\n",
      "/usr/local/lib/python3.6/dist-packages/sklearn/linear_model/logistic.py:469: FutureWarning: Default multi_class will be changed to 'auto' in 0.22. Specify the multi_class option to silence this warning.\n",
      "  \"this warning.\", FutureWarning)\n"
     ]
    },
    {
     "name": "stdout",
     "output_type": "stream",
     "text": [
      "Accuracy: 0.5089686098654709\n"
     ]
    }
   ],
   "source": [
    "classifier = LogisticRegression()\n",
    "classifier.fit(X_train, y_train)\n",
    "score = classifier.score(X_test, y_test)\n",
    "pred = classifier.predict(X_test)\n",
    "print(\"Accuracy:\", score)"
   ]
  },
  {
   "cell_type": "markdown",
   "metadata": {},
   "source": [
    "We also print a confusion matrix, with the lines being the true labels:"
   ]
  },
  {
   "cell_type": "code",
   "execution_count": 180,
   "metadata": {},
   "outputs": [
    {
     "name": "stdout",
     "output_type": "stream",
     "text": [
      "[[  1   0   2   0   0   0]\n",
      " [  0   1   6   2   0   0]\n",
      " [  0   0  12  28   4   0]\n",
      " [  0   0  17 154  51   1]\n",
      " [  0   0   1  67  58  11]\n",
      " [  0   0   0  13  16   1]]\n"
     ]
    }
   ],
   "source": [
    "print(confusion_matrix(y_test, pred))"
   ]
  },
  {
   "cell_type": "markdown",
   "metadata": {},
   "source": [
    "Now we build our first neural model. <br> We add two layers after the input: the first one with 10 nodes, the second one with 6 nodes, one per possible class. We print the summary of the model."
   ]
  },
  {
   "cell_type": "code",
   "execution_count": 181,
   "metadata": {},
   "outputs": [
    {
     "name": "stdout",
     "output_type": "stream",
     "text": [
      "Model: \"sequential_6\"\n",
      "_________________________________________________________________\n",
      "Layer (type)                 Output Shape              Param #   \n",
      "=================================================================\n",
      "dense_11 (Dense)             (None, 10)                133500    \n",
      "_________________________________________________________________\n",
      "dense_12 (Dense)             (None, 6)                 66        \n",
      "=================================================================\n",
      "Total params: 133,566\n",
      "Trainable params: 133,566\n",
      "Non-trainable params: 0\n",
      "_________________________________________________________________\n"
     ]
    }
   ],
   "source": [
    "model = Sequential()\n",
    "input_dim = X_train.shape[1]\n",
    "model.add(layers.Dense(10, input_dim=input_dim, activation='relu'))\n",
    "model.add(layers.Dense(6, activation='softmax'))\n",
    "model.compile(loss='categorical_crossentropy', \n",
    "               optimizer='adam', \n",
    "               metrics=['accuracy'])\n",
    "model.summary()"
   ]
  },
  {
   "cell_type": "markdown",
   "metadata": {},
   "source": [
    "We transform the output value to vectors, instead of '3' We would like to have '[0,0,1,0,0,0]'"
   ]
  },
  {
   "cell_type": "code",
   "execution_count": 182,
   "metadata": {},
   "outputs": [],
   "source": [
    "y_test_orig = y_test\n",
    "y_train = np.interp(y_train, (1, 6), (0, 5))\n",
    "y_test = np.interp(y_test, (1, 6), (0, 5))\n",
    "y_train = np_utils.to_categorical(y_train)\n",
    "y_test = np_utils.to_categorical(y_test)"
   ]
  },
  {
   "cell_type": "markdown",
   "metadata": {},
   "source": [
    "Now we do the actual training, we train 10 times on the training data."
   ]
  },
  {
   "cell_type": "code",
   "execution_count": 183,
   "metadata": {},
   "outputs": [
    {
     "name": "stdout",
     "output_type": "stream",
     "text": [
      "Train on 1337 samples, validate on 446 samples\n",
      "Epoch 1/10\n",
      "1337/1337 [==============================] - 0s 328us/step - loss: 1.4274 - accuracy: 0.3949 - val_loss: 1.2100 - val_accuracy: 0.5471\n",
      "Epoch 2/10\n",
      "1337/1337 [==============================] - 0s 247us/step - loss: 0.9299 - accuracy: 0.6387 - val_loss: 1.0507 - val_accuracy: 0.5628\n",
      "Epoch 3/10\n",
      "1337/1337 [==============================] - 0s 232us/step - loss: 0.6763 - accuracy: 0.7502 - val_loss: 1.0627 - val_accuracy: 0.5740\n",
      "Epoch 4/10\n",
      "1337/1337 [==============================] - 0s 235us/step - loss: 0.5190 - accuracy: 0.8265 - val_loss: 1.0713 - val_accuracy: 0.5583\n",
      "Epoch 5/10\n",
      "1337/1337 [==============================] - 0s 232us/step - loss: 0.4049 - accuracy: 0.8841 - val_loss: 1.1171 - val_accuracy: 0.5605\n",
      "Epoch 6/10\n",
      "1337/1337 [==============================] - 0s 243us/step - loss: 0.3202 - accuracy: 0.9274 - val_loss: 1.1678 - val_accuracy: 0.5673\n",
      "Epoch 7/10\n",
      "1337/1337 [==============================] - 0s 245us/step - loss: 0.2485 - accuracy: 0.9581 - val_loss: 1.2077 - val_accuracy: 0.5628\n",
      "Epoch 8/10\n",
      "1337/1337 [==============================] - 0s 246us/step - loss: 0.1907 - accuracy: 0.9753 - val_loss: 1.2861 - val_accuracy: 0.5516\n",
      "Epoch 9/10\n",
      "1337/1337 [==============================] - 0s 246us/step - loss: 0.1521 - accuracy: 0.9798 - val_loss: 1.2920 - val_accuracy: 0.5448\n",
      "Epoch 10/10\n",
      "1337/1337 [==============================] - 0s 248us/step - loss: 0.1224 - accuracy: 0.9865 - val_loss: 1.3589 - val_accuracy: 0.5448\n"
     ]
    },
    {
     "data": {
      "text/plain": [
       "<keras.callbacks.callbacks.History at 0x7f1fac695e80>"
      ]
     },
     "execution_count": 183,
     "metadata": {},
     "output_type": "execute_result"
    }
   ],
   "source": [
    "model.fit(X_train, y_train,\n",
    "                     epochs=10,\n",
    "                     verbose=True,\n",
    "                     validation_data=(X_test, y_test),\n",
    "                     batch_size=10)"
   ]
  },
  {
   "cell_type": "markdown",
   "metadata": {},
   "source": [
    "We evaluate the loss on the training data and on the validation data."
   ]
  },
  {
   "cell_type": "code",
   "execution_count": 184,
   "metadata": {},
   "outputs": [
    {
     "name": "stdout",
     "output_type": "stream",
     "text": [
      "1337/1337 [==============================] - 0s 63us/step\n",
      "Training Accuracy: 0.9888\n",
      "446/446 [==============================] - 0s 62us/step\n",
      "Testing Accuracy:  0.5448\n"
     ]
    }
   ],
   "source": [
    "loss, accuracy = model.evaluate(X_train, y_train, verbose=True)\n",
    "print(\"Training Accuracy: {:.4f}\".format(accuracy))\n",
    "loss, accuracy = model.evaluate(X_test, y_test, verbose=True)\n",
    "print(\"Testing Accuracy:  {:.4f}\".format(accuracy))"
   ]
  },
  {
   "cell_type": "markdown",
   "metadata": {},
   "source": [
    "<div class=\"task_description\">\n",
    "   <i class=\"subtask\">7.3.2</i> <i class=\"l1\">L1</i> <br>\n",
    "</div>\n",
    "\n",
    "Observe how the performance develops. Can you explain what is going on here?"
   ]
  },
  {
   "cell_type": "markdown",
   "metadata": {},
   "source": [
    "<strong style=\"color: blue\">Lösung: </strong>\n",
    "\n",
    "We overfit on the training data, i.e. our training performance gets better, but we fit so specifically on the training data, that our performance on the test data does not improve anymore."
   ]
  },
  {
   "cell_type": "markdown",
   "metadata": {},
   "source": [
    "___\n",
    "We now get the predictions on the test data and compute a confusion matrix."
   ]
  },
  {
   "cell_type": "code",
   "execution_count": 185,
   "metadata": {},
   "outputs": [
    {
     "name": "stdout",
     "output_type": "stream",
     "text": [
      "[[  0   0   1   2   0   0]\n",
      " [  0   0   5   4   0   0]\n",
      " [  0   0   8  34   2   0]\n",
      " [  0   0   9 173  41   0]\n",
      " [  0   0   1  73  62   1]\n",
      " [  0   0   0  12  18   0]]\n"
     ]
    }
   ],
   "source": [
    "pred = model.predict(X_test)\n",
    "predarray = []\n",
    "for p in pred:\n",
    "    predarray.append(p.argmax()+1)\n",
    "print(confusion_matrix(y_test_orig, predarray))"
   ]
  },
  {
   "cell_type": "markdown",
   "metadata": {},
   "source": [
    "In the first net, we represented each essays with an feature vector of fixed length, a BOW model. <br>\n",
    "Now we represent our input as a sequence of tokens, each token is represented by its index."
   ]
  },
  {
   "cell_type": "code",
   "execution_count": 186,
   "metadata": {},
   "outputs": [],
   "source": [
    "tokenizer = Tokenizer()\n",
    "tokenizer.fit_on_texts(essays_train)\n",
    "\n",
    "X_train = tokenizer.texts_to_sequences(essays_train)\n",
    "X_test = tokenizer.texts_to_sequences(essays_test)\n",
    "\n",
    "vocab_size = len(tokenizer.word_index) + 1  # Adding 1 because of reserved 0 index                                                                                                   "
   ]
  },
  {
   "cell_type": "markdown",
   "metadata": {},
   "source": [
    "With CountVectorizer, we had stacked vectors of word counts, and each vector was the same length (the size of the total corpus vocabulary). With Tokenizer, the resulting vectors equal the length of each text, and the numbers don’t denote counts, but rather correspond to the word values from the dictionary tokenizer.word_index.\n",
    " <br> <br>\n",
    " ___\n",
    " We consider only the first 500 words per essay, if there are less words, we pad the remaining words with 0s.\n",
    "\n",
    "\n"
   ]
  },
  {
   "cell_type": "code",
   "execution_count": 187,
   "metadata": {},
   "outputs": [
    {
     "name": "stdout",
     "output_type": "stream",
     "text": [
      "Model: \"sequential_7\"\n",
      "_________________________________________________________________\n",
      "Layer (type)                 Output Shape              Param #   \n",
      "=================================================================\n",
      "embedding_4 (Embedding)      (None, 500, 50)           689750    \n",
      "_________________________________________________________________\n",
      "flatten_4 (Flatten)          (None, 25000)             0         \n",
      "_________________________________________________________________\n",
      "dense_13 (Dense)             (None, 10)                250010    \n",
      "_________________________________________________________________\n",
      "dense_14 (Dense)             (None, 6)                 66        \n",
      "=================================================================\n",
      "Total params: 939,826\n",
      "Trainable params: 939,826\n",
      "Non-trainable params: 0\n",
      "_________________________________________________________________\n",
      "Train on 1337 samples, validate on 446 samples\n",
      "Epoch 1/20\n",
      "1337/1337 [==============================] - 0s 331us/step - loss: 1.0186 - accuracy: 0.5961 - val_loss: 0.9150 - val_accuracy: 0.6121\n",
      "Epoch 2/20\n",
      "1337/1337 [==============================] - 0s 233us/step - loss: 0.5453 - accuracy: 0.8212 - val_loss: 0.8758 - val_accuracy: 0.5897\n",
      "Epoch 3/20\n",
      "1337/1337 [==============================] - 0s 229us/step - loss: 0.1538 - accuracy: 0.9634 - val_loss: 0.9034 - val_accuracy: 0.6480\n",
      "Epoch 4/20\n",
      "1337/1337 [==============================] - 0s 223us/step - loss: 0.0528 - accuracy: 0.9843 - val_loss: 1.0222 - val_accuracy: 0.6323\n",
      "Epoch 5/20\n",
      "1337/1337 [==============================] - 0s 237us/step - loss: 0.0223 - accuracy: 0.9948 - val_loss: 1.0785 - val_accuracy: 0.6345\n",
      "Epoch 6/20\n",
      "1337/1337 [==============================] - 0s 253us/step - loss: 0.0134 - accuracy: 0.9948 - val_loss: 1.1189 - val_accuracy: 0.6390\n",
      "Epoch 7/20\n",
      "1337/1337 [==============================] - 0s 253us/step - loss: 0.0096 - accuracy: 0.9963 - val_loss: 1.1868 - val_accuracy: 0.6457\n",
      "Epoch 8/20\n",
      "1337/1337 [==============================] - 0s 251us/step - loss: 0.0070 - accuracy: 1.0000 - val_loss: 1.1920 - val_accuracy: 0.6323\n",
      "Epoch 9/20\n",
      "1337/1337 [==============================] - 0s 263us/step - loss: 0.0049 - accuracy: 1.0000 - val_loss: 1.2215 - val_accuracy: 0.6435\n",
      "Epoch 10/20\n",
      "1337/1337 [==============================] - 0s 246us/step - loss: 0.0035 - accuracy: 1.0000 - val_loss: 1.2718 - val_accuracy: 0.6457\n",
      "Epoch 11/20\n",
      "1337/1337 [==============================] - 0s 244us/step - loss: 0.0027 - accuracy: 1.0000 - val_loss: 1.2734 - val_accuracy: 0.6368\n",
      "Epoch 12/20\n",
      "1337/1337 [==============================] - 0s 244us/step - loss: 0.0019 - accuracy: 1.0000 - val_loss: 1.2883 - val_accuracy: 0.6368\n",
      "Epoch 13/20\n",
      "1337/1337 [==============================] - 0s 247us/step - loss: 0.0015 - accuracy: 1.0000 - val_loss: 1.3218 - val_accuracy: 0.6390\n",
      "Epoch 14/20\n",
      "1337/1337 [==============================] - 0s 246us/step - loss: 0.0012 - accuracy: 1.0000 - val_loss: 1.3355 - val_accuracy: 0.6368\n",
      "Epoch 15/20\n",
      "1337/1337 [==============================] - 0s 243us/step - loss: 9.6576e-04 - accuracy: 1.0000 - val_loss: 1.3524 - val_accuracy: 0.6390\n",
      "Epoch 16/20\n",
      "1337/1337 [==============================] - 0s 246us/step - loss: 7.5289e-04 - accuracy: 1.0000 - val_loss: 1.3817 - val_accuracy: 0.6345\n",
      "Epoch 17/20\n",
      "1337/1337 [==============================] - 0s 249us/step - loss: 6.3487e-04 - accuracy: 1.0000 - val_loss: 1.3862 - val_accuracy: 0.6345\n",
      "Epoch 18/20\n",
      "1337/1337 [==============================] - 0s 248us/step - loss: 5.3453e-04 - accuracy: 1.0000 - val_loss: 1.3986 - val_accuracy: 0.6345\n",
      "Epoch 19/20\n",
      "1337/1337 [==============================] - 0s 246us/step - loss: 4.5263e-04 - accuracy: 1.0000 - val_loss: 1.4223 - val_accuracy: 0.6323\n",
      "Epoch 20/20\n",
      "1337/1337 [==============================] - 0s 245us/step - loss: 3.8534e-04 - accuracy: 1.0000 - val_loss: 1.4287 - val_accuracy: 0.6345\n",
      "1337/1337 [==============================] - 0s 31us/step\n",
      "Training Accuracy: 1.0000\n",
      "446/446 [==============================] - 0s 32us/step\n",
      "Testing Accuracy:  0.6345\n",
      "[[  3   0   0   0   0   0]\n",
      " [  3   3   3   0   0   0]\n",
      " [  0   1  24  19   0   0]\n",
      " [  0   0  13 174  35   1]\n",
      " [  0   0   0  57  79   1]\n",
      " [  0   0   0   5  25   0]]\n"
     ]
    }
   ],
   "source": [
    "maxlen = 500\n",
    "X_train = pad_sequences(X_train, padding='post', maxlen=maxlen)\n",
    "X_test = pad_sequences(X_test, padding='post', maxlen=maxlen)\n",
    "\n",
    "embedding_dim = 50\n",
    "model2 = Sequential()\n",
    "model2.add(layers.Embedding(input_dim=vocab_size, \n",
    "                           output_dim=embedding_dim, \n",
    "                           input_length=maxlen))\n",
    "model2.add(layers.Flatten())\n",
    "model2.add(layers.Dense(10, activation='relu'))\n",
    "model2.add(layers.Dense(6, activation='softmax'))\n",
    "model2.compile(optimizer='adam',\n",
    "              loss='categorical_crossentropy',\n",
    "              metrics=['accuracy'])\n",
    "model2.summary()\n",
    "history = model2.fit(X_train, y_train,\n",
    "                    epochs=20,\n",
    "                    verbose=True,\n",
    "                    validation_data=(X_test, y_test),\n",
    "                    batch_size=10)\n",
    "loss, accuracy = model2.evaluate(X_train, y_train, verbose=True)\n",
    "print(\"Training Accuracy: {:.4f}\".format(accuracy))\n",
    "loss, accuracy = model2.evaluate(X_test, y_test, verbose=True)\n",
    "print(\"Testing Accuracy:  {:.4f}\".format(accuracy))\n",
    "\n",
    "pred = model2.predict(X_test)\n",
    "predarray = []\n",
    "for p in pred:\n",
    "    predarray.append(p.argmax()+1)\n",
    "print(confusion_matrix(y_test_orig, predarray))"
   ]
  },
  {
   "cell_type": "markdown",
   "metadata": {},
   "source": [
    "In the following variant of the model, we use pretrained word-embeddings."
   ]
  },
  {
   "cell_type": "code",
   "execution_count": 188,
   "metadata": {},
   "outputs": [
    {
     "ename": "FileNotFoundError",
     "evalue": "[Errno 2] No such file or directory: '/path/to/glove/glove.6B.100d.txt'",
     "output_type": "error",
     "traceback": [
      "\u001b[0;31m---------------------------------------------------------------------------\u001b[0m",
      "\u001b[0;31mFileNotFoundError\u001b[0m                         Traceback (most recent call last)",
      "\u001b[0;32m<ipython-input-188-0f206570b1c0>\u001b[0m in \u001b[0;36m<module>\u001b[0;34m\u001b[0m\n\u001b[1;32m     16\u001b[0m embedding_matrix = create_embedding_matrix(\n\u001b[1;32m     17\u001b[0m      \u001b[0;34m'/path/to/glove/glove.6B.100d.txt'\u001b[0m\u001b[0;34m,\u001b[0m\u001b[0;34m\u001b[0m\u001b[0;34m\u001b[0m\u001b[0m\n\u001b[0;32m---> 18\u001b[0;31m      tokenizer.word_index, embedding_dim)\n\u001b[0m\u001b[1;32m     19\u001b[0m \u001b[0;34m\u001b[0m\u001b[0m\n\u001b[1;32m     20\u001b[0m \u001b[0;34m\u001b[0m\u001b[0m\n",
      "\u001b[0;32m<ipython-input-188-0f206570b1c0>\u001b[0m in \u001b[0;36mcreate_embedding_matrix\u001b[0;34m(filepath, word_index, embedding_dim)\u001b[0m\n\u001b[1;32m      3\u001b[0m     \u001b[0membedding_matrix\u001b[0m \u001b[0;34m=\u001b[0m \u001b[0mnp\u001b[0m\u001b[0;34m.\u001b[0m\u001b[0mzeros\u001b[0m\u001b[0;34m(\u001b[0m\u001b[0;34m(\u001b[0m\u001b[0mvocab_size\u001b[0m\u001b[0;34m,\u001b[0m \u001b[0membedding_dim\u001b[0m\u001b[0;34m)\u001b[0m\u001b[0;34m)\u001b[0m\u001b[0;34m\u001b[0m\u001b[0;34m\u001b[0m\u001b[0m\n\u001b[1;32m      4\u001b[0m \u001b[0;34m\u001b[0m\u001b[0m\n\u001b[0;32m----> 5\u001b[0;31m     \u001b[0;32mwith\u001b[0m \u001b[0mopen\u001b[0m\u001b[0;34m(\u001b[0m\u001b[0mfilepath\u001b[0m\u001b[0;34m)\u001b[0m \u001b[0;32mas\u001b[0m \u001b[0mf\u001b[0m\u001b[0;34m:\u001b[0m\u001b[0;34m\u001b[0m\u001b[0;34m\u001b[0m\u001b[0m\n\u001b[0m\u001b[1;32m      6\u001b[0m         \u001b[0;32mfor\u001b[0m \u001b[0mline\u001b[0m \u001b[0;32min\u001b[0m \u001b[0mf\u001b[0m\u001b[0;34m:\u001b[0m\u001b[0;34m\u001b[0m\u001b[0;34m\u001b[0m\u001b[0m\n\u001b[1;32m      7\u001b[0m             \u001b[0mword\u001b[0m\u001b[0;34m,\u001b[0m \u001b[0;34m*\u001b[0m\u001b[0mvector\u001b[0m \u001b[0;34m=\u001b[0m \u001b[0mline\u001b[0m\u001b[0;34m.\u001b[0m\u001b[0msplit\u001b[0m\u001b[0;34m(\u001b[0m\u001b[0;34m)\u001b[0m\u001b[0;34m\u001b[0m\u001b[0;34m\u001b[0m\u001b[0m\n",
      "\u001b[0;31mFileNotFoundError\u001b[0m: [Errno 2] No such file or directory: '/path/to/glove/glove.6B.100d.txt'"
     ]
    }
   ],
   "source": [
    "def create_embedding_matrix(filepath, word_index, embedding_dim):\n",
    "    vocab_size = len(word_index) + 1  # Adding again 1 because of reserved 0 index\n",
    "    embedding_matrix = np.zeros((vocab_size, embedding_dim))\n",
    "\n",
    "    with open(filepath) as f:\n",
    "        for line in f:\n",
    "            word, *vector = line.split()\n",
    "            if word in word_index:\n",
    "                idx = word_index[word] \n",
    "                embedding_matrix[idx] = np.array(\n",
    "                    vector, dtype=np.float32)[:embedding_dim]\n",
    "    return embedding_matrix\n",
    "\n",
    "\n",
    "embedding_dim = 100\n",
    "embedding_matrix = create_embedding_matrix(\n",
    "     '/path/to/glove/glove.6B.100d.txt',\n",
    "     tokenizer.word_index, embedding_dim)\n",
    "\n",
    "\n",
    "model3 = Sequential()\n",
    "model3.add(layers.Embedding(vocab_size, embedding_dim, \n",
    "                           weights=[embedding_matrix], \n",
    "                           input_length=maxlen, \n",
    "                           trainable=True))\n",
    "model3.add(layers.Flatten())\n",
    "model3.add(layers.Dense(10, activation='relu'))\n",
    "model3.add(layers.Dense(6, activation='softmax'))\n",
    "model3.compile(optimizer='adam',\n",
    "              loss='categorical_crossentropy',\n",
    "              metrics=['accuracy'])\n",
    "model3.summary()\n",
    "history = model3.fit(X_train, y_train,\n",
    "                    epochs=20,\n",
    "                    verbose=True,\n",
    "                    validation_data=(X_test, y_test),\n",
    "                    batch_size=10)\n",
    "loss, accuracy = model3.evaluate(X_train, y_train, verbose=True)\n",
    "print(\"Training Accuracy: {:.4f}\".format(accuracy))\n",
    "loss, accuracy = model3.evaluate(X_test, y_test, verbose=True)\n",
    "print(\"Testing Accuracy:  {:.4f}\".format(accuracy))\n",
    "\n",
    "pred = model3.predict(X_test)\n",
    "predarray = []\n",
    "for p in pred:\n",
    "    predarray.append(p.argmax()+1)\n",
    "print(confusion_matrix(y_test_orig, predarray))"
   ]
  },
  {
   "cell_type": "markdown",
   "metadata": {},
   "source": [
    "<div class=\"task_description\">\n",
    "   <i class=\"subtask\">7.3.3</i> <i class=\"l2\">L2</i> <br>\n",
    "</div>\n",
    "\n",
    "Try to play with some of the parameters: Should we use longer or shorter essays lengths? A different number of hidden units? An additional hidden layer?"
   ]
  },
  {
   "cell_type": "markdown",
   "metadata": {},
   "source": [
    "## Overall evaluation"
   ]
  },
  {
   "cell_type": "markdown",
   "metadata": {},
   "source": [
    "<div class=\"task_description\">\n",
    "    <i class=\"task\">Task 7.4:</i>  <br>\n",
    "</div>\n",
    "\n",
    "The following code omputes linearly and quadratically weighted kappa (Set weight to „linear“ or „quadratic“)."
   ]
  },
  {
   "cell_type": "code",
   "execution_count": null,
   "metadata": {},
   "outputs": [],
   "source": [
    "cohen_kappa_score(y1, y2, labels=None, weights=None, sample_weight=None) "
   ]
  },
  {
   "cell_type": "markdown",
   "metadata": {},
   "source": [
    "Given is the following confusion matrix. Lines are true values. "
   ]
  },
  {
   "cell_type": "code",
   "execution_count": null,
   "metadata": {},
   "outputs": [],
   "source": [
    "array=[[20, 5, 10],[15, 20, 5],[10, 20, 10]]\n",
    "df_cm = pd.DataFrame(array, index = [i for i in \"012\"],\n",
    "                     columns = [i for i in \"012\"])\n",
    "plt.figure(figsize = (4,3))\n",
    "sns.heatmap(df_cm, annot=True,cmap=\"Blues\")"
   ]
  },
  {
   "cell_type": "markdown",
   "metadata": {},
   "source": [
    "<div class=\"task_description\">\n",
    "   <i class=\"subtask\">7.4.1</i> <i class=\"l1\">L1</i> <br>\n",
    "</div>\n",
    "\n",
    "Compute the accuracy and the kappa for the confusion matrix above."
   ]
  },
  {
   "cell_type": "markdown",
   "metadata": {},
   "source": [
    "<strong style=\"color: blue\">Lösung: </strong>"
   ]
  },
  {
   "cell_type": "code",
   "execution_count": null,
   "metadata": {},
   "outputs": [],
   "source": [
    "gold0 = [0] * 35 + [1] * 40 + [2] * 40\n",
    "pred0 = [0] * 20 + [1] * 5 + [2] * 10 + [0] * 15 + [1] * 20 + [2] * 5 + [0] * 10 + [1] * 20 + [2] * 10\n",
    "\n",
    "print(confusion_matrix(gold0, pred0))\n",
    "print(\"Accuracy: \",accuracy_score(gold0, pred0, normalize=True, sample_weight=None))\n",
    "print(\"Kappa: \",cohen_kappa_score(gold0, pred0, weights='quadratic'))"
   ]
  },
  {
   "cell_type": "markdown",
   "metadata": {},
   "source": [
    "<div class=\"task_description\">\n",
    "   <i class=\"subtask\">7.4.2</i> <i class=\"l1\">L1</i> <br>\n",
    "</div>\n",
    "Can you find a different confusion matrix, which has the same label distribution in the gold standard, the same accuracy, but a better QWK (Quadratic Weighted Kappa)?"
   ]
  },
  {
   "cell_type": "markdown",
   "metadata": {},
   "source": [
    "<strong style=\"color: blue\">Lösung: </strong>"
   ]
  },
  {
   "cell_type": "code",
   "execution_count": null,
   "metadata": {},
   "outputs": [],
   "source": [
    "gold1 = [0] * 35 + [1] * 40 + [2] * 40\n",
    "pred1 = [0] * 20 + [1] * 5 + [2] * 10 + [0] * 15 + [1] * 20 + [2] * 5 + [0] * 0 + [1] * 30 + [2] * 10\n",
    "\n",
    "print(confusion_matrix(gold1, pred1))\n",
    "print(\"Accuracy: \",accuracy_score(gold1, pred1, normalize=True, sample_weight=None))\n",
    "print(\"Kappa: \",cohen_kappa_score(gold1, pred1, weights='quadratic'))"
   ]
  },
  {
   "cell_type": "markdown",
   "metadata": {},
   "source": [
    "A better matrix has less entries in the extreme cases (0-2, 2-0) while having the same number of gold standard instances per class."
   ]
  },
  {
   "cell_type": "markdown",
   "metadata": {},
   "source": [
    "<div class=\"task_description\">\n",
    "   <i class=\"subtask\">7.4.3</i> <i class=\"l1\">L1</i> <br>\n",
    "</div>\n",
    "\n",
    "Can you find one with a worse QWK? "
   ]
  },
  {
   "cell_type": "markdown",
   "metadata": {},
   "source": [
    "<strong style=\"color: blue\">Lösung: </strong>"
   ]
  },
  {
   "cell_type": "code",
   "execution_count": null,
   "metadata": {},
   "outputs": [],
   "source": [
    "gold2 = [0] * 35 + [1] * 40 + [2] * 40\n",
    "pred2 = [0] * 20 + [1] * 0 + [2] * 15 + [0] * 15 + [1] * 20 + [2] * 5 + [0] * 10 + [1] * 20 + [2] * 10\n",
    "\n",
    "print(confusion_matrix(gold2, pred2))\n",
    "print(\"Accuracy: \",accuracy_score(gold2, pred2, normalize=True, sample_weight=None))\n",
    "print(\"Kappa: \",cohen_kappa_score(gold2, pred2, weights='quadratic'))"
   ]
  },
  {
   "cell_type": "markdown",
   "metadata": {},
   "source": [
    "# Homework"
   ]
  },
  {
   "cell_type": "markdown",
   "metadata": {},
   "source": [
    "<div class=\"task_description\">\n",
    "    <i class=\"task\">7.1.</i> :::10 Homework points:::\n",
    "</div>\n"
   ]
  },
  {
   "cell_type": "markdown",
   "metadata": {},
   "source": [
    "The following code makes a one-hot feature vector out of an essay and classifies it. "
   ]
  },
  {
   "cell_type": "code",
   "execution_count": 189,
   "metadata": {},
   "outputs": [
    {
     "name": "stdout",
     "output_type": "stream",
     "text": [
      "1\n"
     ]
    }
   ],
   "source": [
    "my_essay = 'this is an example essay.'\n",
    "X_testing = tokenizer.texts_to_sequences([my_essay])\n",
    "X_testing = pad_sequences(X_testing, padding='post', maxlen=maxlen)\n",
    "print(model2.predict(X_testing).argmax()+1)"
   ]
  },
  {
   "cell_type": "markdown",
   "metadata": {},
   "source": [
    "<div class=\"task_description\">\n",
    "   <i class=\"subtask\">7.1.1.</i> <br>\n",
    "</div>\n",
    "\n",
    "Try to write a text that gets very high scores and a text that receives very low scores."
   ]
  },
  {
   "cell_type": "markdown",
   "metadata": {},
   "source": [
    "A text with a very high score"
   ]
  },
  {
   "cell_type": "code",
   "execution_count": 204,
   "metadata": {},
   "outputs": [],
   "source": [
    "my_essay1 = '''I strongly believe that computers play a huge role in human lives, especially in the last @NUM1 years. What I define as a computer is any device that can execute complex calculations with ease. Because of the great advantages it offers, it is available to us today in various forms – laptops, smartphones, notebooks. A computer helps us access an unlimited amount of information, makes us aware of everything that is happening around the world (even faraway countries like @LOCATION1, @LOCATION2 and @LOCATION3), automates redundant processes that would otherwise be time-consuming and is one of the biggest sources of entertainment. Although beneficial in many ways, computers can be misused with false motives. For example, data protection has been a huge issue in @LOCATION4 because it is feasible for people to hack into computers and steal others’ data on transactions, basic personal information, and even browsing habits! This data could then be used to the hacker’s advantage to expose internet users to advertisements on products that they would very likely be interested in.\n",
    "As an adolescent, what I would really like to address is the impact of computers on our development into adulthood. Lots of people I know spend hours on their computer screens playing games, browsing and watching videos. It is so easy to access entertainment that we allow ourselves be unproductive. As a result, we depend on our computers to give us instantaneous answers to our questions, starting from stupid ones to real-life problems. \n",
    "That aside, I think we are a lucky generation as information is often available for us for free. Back then, people only have access to a lot of knowledge if they are privileged and go to a prestigious school. It is fortunately not the case nowadays. We only need a computer and an internet connection. Even Youtube has been an extremely useful resource and practical platform to learn. Take @PERSON1 for example. He was the one that brilliantly taught me the basics of neural networks. It was such a complex concept, but the way he explains it makes the impossible simple. Not to mention the other @NUM2 videos that have helped me face exams. There is no more excuse for us to be ignorant and lazy, really! Why? We have computers! Modern computers!\n",
    "In conclusion, as with everything in life, computers are extremely beneficial in our lives if we know how to use them in a respective manner. However, computers can also be destructive if used with bad pretentions.\n",
    "'''"
   ]
  },
  {
   "cell_type": "code",
   "execution_count": 205,
   "metadata": {
    "scrolled": true
   },
   "outputs": [
    {
     "name": "stdout",
     "output_type": "stream",
     "text": [
      "5\n"
     ]
    }
   ],
   "source": [
    "X_testing1 = tokenizer.texts_to_sequences([my_essay1])\n",
    "X_testing1 = pad_sequences(X_testing1, padding='post', maxlen=maxlen)\n",
    "print(model2.predict(X_testing1).argmax()+1)"
   ]
  },
  {
   "cell_type": "markdown",
   "metadata": {},
   "source": [
    "We believe the word \"computer\" plays a huge role in the scoring, so we tried to put quite a lot of that. We also think that conjunctions like \"and\", \"because\", \"however\", etc are very important, also correct spelling, punctuation, and named entity tags as there were quite some of them in the high scoring essays. We also tried using a wide range of vocabulary, because it indicates eloquency and intelligence. And lastly, we wrote a sufficiently long text as short essays did not produce good scores according to the dataset."
   ]
  },
  {
   "cell_type": "markdown",
   "metadata": {},
   "source": [
    "A text with a very low score"
   ]
  },
  {
   "cell_type": "code",
   "execution_count": 206,
   "metadata": {},
   "outputs": [],
   "source": [
    "my_essay2 = '''\n",
    "Cmputers r ez 2 use n i relly dont think no one doesnt understand how 2 use it bc it would be really crazy not to be able to use it omg\n",
    "'''"
   ]
  },
  {
   "cell_type": "code",
   "execution_count": 207,
   "metadata": {},
   "outputs": [
    {
     "name": "stdout",
     "output_type": "stream",
     "text": [
      "1\n"
     ]
    }
   ],
   "source": [
    "X_testing2 = tokenizer.texts_to_sequences([my_essay2])\n",
    "X_testing2 = pad_sequences(X_testing2, padding='post', maxlen=maxlen)\n",
    "print(model2.predict(X_testing2).argmax()+1)"
   ]
  },
  {
   "cell_type": "markdown",
   "metadata": {},
   "source": [
    "Very short essays with very limited range of vocabulary and bad spelling and punctuation produce low scores, and that is how we approached this."
   ]
  },
  {
   "cell_type": "markdown",
   "metadata": {},
   "source": [
    "<div class=\"task_description\">\n",
    "   <i class=\"subtask\">7.1.2.</i> <br>\n",
    "</div>\n",
    "\n",
    "Can you write something that does not make sense to a human but still receives high scores?"
   ]
  },
  {
   "cell_type": "code",
   "execution_count": 210,
   "metadata": {},
   "outputs": [],
   "source": [
    "my_essay3 = '''\n",
    "Dear local, back popular are computers since @TIME1 they are so awesome you like it but I don’t this is weird do you understand me. You me it use every hour day and night because happy. Social media bad is, however useful. I feel my sister @PERSON1 use computer all the time. She look at it dance sometimes boyfriend. Do I or not otherwise, I don’t think. Homeworks it helped me, but teacher give bad grade, as I copy. Mathematics has increased because of Youtube videos, watch I lot of them. Something unfortunately unclear, just search and results out. I do it all the time even though mommy not like. She say, it make people stupid and lazy. I don’t agree I can write essays like this. Computer impact lives many students and teachers at my school, so many computers in a room. Phones are also computers because I can see everything inside phone like computer. Google translate very important, as I watch Spanish dramas I like and don’t understand but can translate. I cannot survive without computer and internet I will miss everything what my friends do at school and at the mall. They will go shop and everywhere without me because I can’t see message. I want be fashionable like themselves and Pinterest teach. Scroll and like pictures that inspire so I can also dress nice. But often so expensive I can’t afford, still there are discounts everywhere. I also like @PERSON2 song and sing he’s so handsome but cute but hot but married to @PERSON2. Selena is sad I saw on computer she sang Lose You To Love Me but off key because painful. Way way back back dated them before the weekend. But of course broken celebrities, so often happen. But I like her very much and happy, because without computers I don’t know her and Justin also Hailey. Concerts also I go to music I listen and dance laugh like tis. Then I post on Instagram, celebrities repost. So bored I hate homework but I have to do so I can have money buy clothes Pinterest, but hope this is finished. High score I am glad but low I also get money. If not I sell computer? No no I cannot, my teacher nice! Or not I find rich handsome boyfriend buy a ton of computers, but too heavy. I can build army of computer robots and attack skull and holiday all the time. Hurt my brain think tis because wrong. Computer good but me bad, sorry so sorry. Are is am not I right or wrongful thou? Make sense must I don’t because computer grade this stupid.\n",
    "'''"
   ]
  },
  {
   "cell_type": "code",
   "execution_count": 211,
   "metadata": {},
   "outputs": [
    {
     "name": "stdout",
     "output_type": "stream",
     "text": [
      "4\n"
     ]
    }
   ],
   "source": [
    "X_testing3 = tokenizer.texts_to_sequences([my_essay3])\n",
    "X_testing3 = pad_sequences(X_testing3, padding='post', maxlen=maxlen)\n",
    "print(model2.predict(X_testing3).argmax()+1)"
   ]
  },
  {
   "cell_type": "markdown",
   "metadata": {},
   "source": [
    "We tried to use a sufficient amount of different words to indicate vocabulary knowledge, however these sentences are not properly structured when considered alone or in relation to other sentences, so lack of coherence is what we were trying to achieve, while avoiding spelling and punctuation errors. Grammar does not seem like a big problem as there are lots of grammar mistakes anyway. The text is also sufficiently long, because short essays result in low grades."
   ]
  },
  {
   "cell_type": "markdown",
   "metadata": {},
   "source": [
    "<div class=\"task_description\">\n",
    "   <i class=\"subtask\">7.1.3.</i> <br>\n",
    "</div>\n",
    "\n",
    "Can you write something that should be correct and receives low scores?"
   ]
  },
  {
   "cell_type": "code",
   "execution_count": 212,
   "metadata": {},
   "outputs": [],
   "source": [
    "my_essay4 = '''\n",
    "I think that computers are very influential in our lives, as they are the source of data, the intelligent units that processes things fast and help us calculate things easily. It is unimaginable to live without them in this demanding world because almost every job requires some computer knowledge, and amazing job opportunities will definitely be missed if these skills are learned. It is important for us to adapt to computer technology, for example through training and building our own projects.\n",
    "'''"
   ]
  },
  {
   "cell_type": "code",
   "execution_count": 213,
   "metadata": {
    "scrolled": true
   },
   "outputs": [
    {
     "name": "stdout",
     "output_type": "stream",
     "text": [
      "2\n"
     ]
    }
   ],
   "source": [
    "X_testing4 = tokenizer.texts_to_sequences([my_essay4])\n",
    "X_testing4 = pad_sequences(X_testing4, padding='post', maxlen=maxlen)\n",
    "print(model2.predict(X_testing4).argmax()+1)"
   ]
  },
  {
   "cell_type": "markdown",
   "metadata": {},
   "source": [
    "This text is theoretically correct in grammar, spelling, punctuation, coherence and has quite a good vocabulary, however too short to achieve a high score."
   ]
  },
  {
   "cell_type": "markdown",
   "metadata": {},
   "source": [
    "____\n",
    "For each task, describe how you proceeded. <br><br><br>\n",
    "__Remember we are in prompt 1:__ <br>\n",
    "<br>*More and more people use computers, but not everyone agrees that this benefits society. Those who support advances in technology believe that computers have a positive effect on people. They teach hand-eye coordination, give people the ability to learn about faraway places and people, and even allow people to talk online with other people. Others have different ideas. Some experts are concerned that people are spending too much time on their computers and less time exercising, enjoying nature, and interacting with family and friends.*\n",
    "<br><br>\n",
    "*Write a letter to your local newspaper in which you state your opinion on the effects computers have on people. Persuade the readers to agree with you.*\n",
    "<br><br>\n",
    "You may have a look at the full scoring guidelines for this prompt."
   ]
  }
 ],
 "metadata": {
  "kernelspec": {
   "display_name": "Python 3",
   "language": "python",
   "name": "python3"
  },
  "language_info": {
   "codemirror_mode": {
    "name": "ipython",
    "version": 3
   },
   "file_extension": ".py",
   "mimetype": "text/x-python",
   "name": "python",
   "nbconvert_exporter": "python",
   "pygments_lexer": "ipython3",
   "version": "3.7.3"
  }
 },
 "nbformat": 4,
 "nbformat_minor": 2
}
